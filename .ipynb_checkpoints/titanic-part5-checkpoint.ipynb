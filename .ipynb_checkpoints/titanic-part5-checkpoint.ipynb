{
 "cells": [
  {
   "cell_type": "markdown",
   "metadata": {},
   "source": [
    "# Part 5"
   ]
  },
  {
   "cell_type": "code",
   "execution_count": 2,
   "metadata": {},
   "outputs": [],
   "source": [
    "# import datasets\n",
    "train <- read.csv(\"data/train.csv\")\n",
    "test <- read.csv(\"data/test.csv\")"
   ]
  },
  {
   "cell_type": "code",
   "execution_count": 3,
   "metadata": {},
   "outputs": [
    {
     "name": "stdout",
     "output_type": "stream",
     "text": [
      "package 'randomForest' successfully unpacked and MD5 sums checked\n",
      "\n",
      "The downloaded binary packages are in\n",
      "\tC:\\Users\\my\\AppData\\Local\\Temp\\RtmpaGvuJd\\downloaded_packages\n"
     ]
    },
    {
     "name": "stderr",
     "output_type": "stream",
     "text": [
      "randomForest 4.6-12\n",
      "Type rfNews() to see new features/changes/bug fixes.\n",
      "also installing the dependencies 'TH.data', 'multcomp', 'mvtnorm', 'modeltools', 'strucchange', 'coin', 'sandwich'\n",
      "\n"
     ]
    },
    {
     "name": "stdout",
     "output_type": "stream",
     "text": [
      "package 'TH.data' successfully unpacked and MD5 sums checked\n",
      "package 'multcomp' successfully unpacked and MD5 sums checked\n",
      "package 'mvtnorm' successfully unpacked and MD5 sums checked\n",
      "package 'modeltools' successfully unpacked and MD5 sums checked\n",
      "package 'strucchange' successfully unpacked and MD5 sums checked\n",
      "package 'coin' successfully unpacked and MD5 sums checked\n",
      "package 'sandwich' successfully unpacked and MD5 sums checked\n",
      "package 'party' successfully unpacked and MD5 sums checked\n",
      "\n",
      "The downloaded binary packages are in\n",
      "\tC:\\Users\\my\\AppData\\Local\\Temp\\RtmpaGvuJd\\downloaded_packages\n"
     ]
    },
    {
     "name": "stderr",
     "output_type": "stream",
     "text": [
      "Loading required package: grid\n",
      "Loading required package: mvtnorm\n",
      "Loading required package: modeltools\n",
      "Loading required package: stats4\n",
      "Loading required package: strucchange\n",
      "Loading required package: zoo\n",
      "\n",
      "Attaching package: 'zoo'\n",
      "\n",
      "The following objects are masked from 'package:base':\n",
      "\n",
      "    as.Date, as.Date.numeric\n",
      "\n",
      "Loading required package: sandwich\n"
     ]
    }
   ],
   "source": [
    "library(rpart)\n",
    "install.packages('randomForest')\n",
    "library(randomForest)\n",
    "install.packages('party')\n",
    "library(party)"
   ]
  },
  {
   "cell_type": "code",
   "execution_count": 5,
   "metadata": {},
   "outputs": [
    {
     "data": {
      "text/html": [
       "<ol class=list-inline>\n",
       "\t<li>6</li>\n",
       "\t<li>3</li>\n",
       "\t<li>2</li>\n",
       "\t<li>6</li>\n",
       "\t<li>8</li>\n",
       "\t<li>2</li>\n",
       "\t<li>6</li>\n",
       "\t<li>4</li>\n",
       "\t<li>3</li>\n",
       "\t<li>6</li>\n",
       "</ol>\n"
      ],
      "text/latex": [
       "\\begin{enumerate*}\n",
       "\\item 6\n",
       "\\item 3\n",
       "\\item 2\n",
       "\\item 6\n",
       "\\item 8\n",
       "\\item 2\n",
       "\\item 6\n",
       "\\item 4\n",
       "\\item 3\n",
       "\\item 6\n",
       "\\end{enumerate*}\n"
      ],
      "text/markdown": [
       "1. 6\n",
       "2. 3\n",
       "3. 2\n",
       "4. 6\n",
       "5. 8\n",
       "6. 2\n",
       "7. 6\n",
       "8. 4\n",
       "9. 3\n",
       "10. 6\n",
       "\n",
       "\n"
      ],
      "text/plain": [
       " [1] 6 3 2 6 8 2 6 4 3 6"
      ]
     },
     "metadata": {},
     "output_type": "display_data"
    }
   ],
   "source": [
    "sample(1:10, replace = TRUE)"
   ]
  },
  {
   "cell_type": "code",
   "execution_count": 6,
   "metadata": {},
   "outputs": [
    {
     "data": {
      "text/plain": [
       "   Min. 1st Qu.  Median    Mean 3rd Qu.    Max.    NA's \n",
       "   0.17   21.00   28.00   29.88   39.00   80.00     263 "
      ]
     },
     "metadata": {},
     "output_type": "display_data"
    }
   ],
   "source": [
    "summary(combi$Age)"
   ]
  },
  {
   "cell_type": "code",
   "execution_count": 8,
   "metadata": {},
   "outputs": [],
   "source": [
    "# create one full of missing values\n",
    "test$Survived <- NA\n",
    "# row bind the two datasets\n",
    "combi <- rbind(train, test)"
   ]
  },
  {
   "cell_type": "code",
   "execution_count": 9,
   "metadata": {},
   "outputs": [],
   "source": [
    "# convert to a string\n",
    "combi$Name <- as.character(combi$Name)"
   ]
  },
  {
   "cell_type": "code",
   "execution_count": 10,
   "metadata": {},
   "outputs": [],
   "source": [
    "combi$Title <- sapply(combi$Name, FUN=function(x) {strsplit(x, split='[,.]')[[1]][2]})\n",
    "combi$Title <- sub(' ', '', combi$Title)"
   ]
  },
  {
   "cell_type": "code",
   "execution_count": 11,
   "metadata": {},
   "outputs": [],
   "source": [
    "combi$Title[combi$Title %in% c('Mme', 'Mlle')] <- 'Mlle'\n",
    "combi$Title[combi$Title %in% c('Capt', 'Don', 'Major', 'Sir')] <- 'Sir'\n",
    "combi$Title[combi$Title %in% c('Dona', 'Lady', 'the Countess', 'Jonkheer')] <- 'Lady'"
   ]
  },
  {
   "cell_type": "code",
   "execution_count": 12,
   "metadata": {},
   "outputs": [],
   "source": [
    "# convert to a factor\n",
    "combi$Title <- factor(combi$Title)"
   ]
  },
  {
   "cell_type": "code",
   "execution_count": 13,
   "metadata": {},
   "outputs": [],
   "source": [
    "combi$FamilySize <- combi$SibSp + combi$Parch + 1"
   ]
  },
  {
   "cell_type": "code",
   "execution_count": 14,
   "metadata": {},
   "outputs": [],
   "source": [
    "combi$Surname <- sapply(combi$Name, FUN=function(x) {strsplit(x, split='[,.]')[[1]][1]})\n",
    "combi$FamilyID <- paste(as.character(combi$FamilySize), combi$Surname, sep=\"\")\n",
    "combi$FamilyID[combi$FamilySize <= 2] <- 'Small'"
   ]
  },
  {
   "cell_type": "code",
   "execution_count": 15,
   "metadata": {},
   "outputs": [],
   "source": [
    "famIDs <- data.frame(table(combi$FamilyID))\n",
    "famIDs <- famIDs[famIDs$Freq <= 2,]\n",
    "combi$FamilyID[combi$FamilyID %in% famIDs$Var1] <- 'Small'"
   ]
  },
  {
   "cell_type": "code",
   "execution_count": 16,
   "metadata": {},
   "outputs": [],
   "source": [
    "combi$FamilyID <- factor(combi$FamilyID)"
   ]
  },
  {
   "cell_type": "code",
   "execution_count": 17,
   "metadata": {},
   "outputs": [
    {
     "data": {
      "text/plain": [
       "   Min. 1st Qu.  Median    Mean 3rd Qu.    Max.    NA's \n",
       "   0.17   21.00   28.00   29.88   39.00   80.00     263 "
      ]
     },
     "metadata": {},
     "output_type": "display_data"
    }
   ],
   "source": [
    "summary(combi$Age)\n",
    "Agefit <- rpart(Age ~ Pclass + Sex + SibSp + Parch + Fare + Embarked + Title + FamilySize, \n",
    "                data=combi[!is.na(combi$Age),], method=\"anova\")\n",
    "combi$Age[is.na(combi$Age)] <- predict(Agefit, combi[is.na(combi$Age),])"
   ]
  },
  {
   "cell_type": "code",
   "execution_count": 18,
   "metadata": {},
   "outputs": [
    {
     "data": {
      "text/plain": [
       "  PassengerId      Survived          Pclass          Name          \n",
       " Min.   :   1   Min.   :0.0000   Min.   :1.000   Length:1309       \n",
       " 1st Qu.: 328   1st Qu.:0.0000   1st Qu.:2.000   Class :character  \n",
       " Median : 655   Median :0.0000   Median :3.000   Mode  :character  \n",
       " Mean   : 655   Mean   :0.3838   Mean   :2.295                     \n",
       " 3rd Qu.: 982   3rd Qu.:1.0000   3rd Qu.:3.000                     \n",
       " Max.   :1309   Max.   :1.0000   Max.   :3.000                     \n",
       "                NA's   :418                                        \n",
       "     Sex           Age            SibSp            Parch            Ticket    \n",
       " female:466   Min.   : 0.17   Min.   :0.0000   Min.   :0.000   CA. 2343:  11  \n",
       " male  :843   1st Qu.:22.00   1st Qu.:0.0000   1st Qu.:0.000   1601    :   8  \n",
       "              Median :28.86   Median :0.0000   Median :0.000   CA 2144 :   8  \n",
       "              Mean   :29.70   Mean   :0.4989   Mean   :0.385   3101295 :   7  \n",
       "              3rd Qu.:36.50   3rd Qu.:1.0000   3rd Qu.:0.000   347077  :   7  \n",
       "              Max.   :80.00   Max.   :8.0000   Max.   :9.000   347082  :   7  \n",
       "                                                               (Other) :1261  \n",
       "      Fare                     Cabin      Embarked     Title    \n",
       " Min.   :  0.000                  :1014    :  2    Mr     :757  \n",
       " 1st Qu.:  7.896   C23 C25 C27    :   6   C:270    Miss   :260  \n",
       " Median : 14.454   B57 B59 B63 B66:   5   Q:123    Mrs    :197  \n",
       " Mean   : 33.295   G6             :   5   S:914    Master : 61  \n",
       " 3rd Qu.: 31.275   B96 B98        :   4            Dr     :  8  \n",
       " Max.   :512.329   C22 C26        :   4            Rev    :  8  \n",
       " NA's   :1         (Other)        : 271            (Other): 18  \n",
       "   FamilySize       Surname                FamilyID   \n",
       " Min.   : 1.000   Length:1309        Small     :1074  \n",
       " 1st Qu.: 1.000   Class :character   11Sage    :  11  \n",
       " Median : 1.000   Mode  :character   7Andersson:   9  \n",
       " Mean   : 1.884                      8Goodwin  :   8  \n",
       " 3rd Qu.: 2.000                      7Asplund  :   7  \n",
       " Max.   :11.000                      6Fortune  :   6  \n",
       "                                     (Other)   : 194  "
      ]
     },
     "metadata": {},
     "output_type": "display_data"
    }
   ],
   "source": [
    "summary(combi)"
   ]
  },
  {
   "cell_type": "code",
   "execution_count": 19,
   "metadata": {},
   "outputs": [
    {
     "data": {
      "text/html": [
       "<dl class=dl-horizontal>\n",
       "\t<dt>1</dt>\n",
       "\t\t<dd>2</dd>\n",
       "\t<dt>C</dt>\n",
       "\t\t<dd>270</dd>\n",
       "\t<dt>Q</dt>\n",
       "\t\t<dd>123</dd>\n",
       "\t<dt>S</dt>\n",
       "\t\t<dd>914</dd>\n",
       "</dl>\n"
      ],
      "text/latex": [
       "\\begin{description*}\n",
       "\\item[1] 2\n",
       "\\item[C] 270\n",
       "\\item[Q] 123\n",
       "\\item[S] 914\n",
       "\\end{description*}\n"
      ],
      "text/markdown": [
       "1\n",
       ":   2C\n",
       ":   270Q\n",
       ":   123S\n",
       ":   914\n",
       "\n"
      ],
      "text/plain": [
       "      C   Q   S \n",
       "  2 270 123 914 "
      ]
     },
     "metadata": {},
     "output_type": "display_data"
    },
    {
     "data": {
      "text/html": [
       "<ol class=list-inline>\n",
       "\t<li>62</li>\n",
       "\t<li>830</li>\n",
       "</ol>\n"
      ],
      "text/latex": [
       "\\begin{enumerate*}\n",
       "\\item 62\n",
       "\\item 830\n",
       "\\end{enumerate*}\n"
      ],
      "text/markdown": [
       "1. 62\n",
       "2. 830\n",
       "\n",
       "\n"
      ],
      "text/plain": [
       "[1]  62 830"
      ]
     },
     "metadata": {},
     "output_type": "display_data"
    }
   ],
   "source": [
    "summary(combi$Embarked)\n",
    "which(combi$Embarked == '')\n",
    "combi$Embarked[c(62,830)] = \"S\"\n",
    "combi$Embarked <- factor(combi$Embarked)"
   ]
  },
  {
   "cell_type": "code",
   "execution_count": 20,
   "metadata": {},
   "outputs": [
    {
     "data": {
      "text/plain": [
       "   Min. 1st Qu.  Median    Mean 3rd Qu.    Max.    NA's \n",
       "  0.000   7.896  14.454  33.295  31.275 512.329       1 "
      ]
     },
     "metadata": {},
     "output_type": "display_data"
    },
    {
     "data": {
      "text/html": [
       "1044"
      ],
      "text/latex": [
       "1044"
      ],
      "text/markdown": [
       "1044"
      ],
      "text/plain": [
       "[1] 1044"
      ]
     },
     "metadata": {},
     "output_type": "display_data"
    }
   ],
   "source": [
    "summary(combi$Fare)\n",
    "which(is.na(combi$Fare))\n",
    "combi$Fare[1044] <- median(combi$Fare, na.rm=TRUE)"
   ]
  },
  {
   "cell_type": "code",
   "execution_count": 21,
   "metadata": {},
   "outputs": [],
   "source": [
    "combi$FamilyID2 <- combi$FamilyID"
   ]
  },
  {
   "cell_type": "code",
   "execution_count": 22,
   "metadata": {},
   "outputs": [],
   "source": [
    "combi$FamilyID2 <- as.character(combi$FamilyID2)\n",
    "combi$FamilyID2[combi$FamilySize <= 3] <- 'Small'"
   ]
  },
  {
   "cell_type": "code",
   "execution_count": 23,
   "metadata": {},
   "outputs": [],
   "source": [
    "combi$FamilyID2 <- factor(combi$FamilyID2)\n"
   ]
  },
  {
   "cell_type": "code",
   "execution_count": 24,
   "metadata": {},
   "outputs": [],
   "source": [
    "train <- combi[1:891,]\n",
    "test <- combi[892:1309,]"
   ]
  },
  {
   "cell_type": "code",
   "execution_count": 25,
   "metadata": {},
   "outputs": [],
   "source": [
    "# build Random Forest Ensemble\n",
    "\n",
    "set.seed(415)\n",
    "fit <- randomForest(as.factor(Survived) ~ Pclass + Sex + Age + SibSp + Parch + Fare + Embarked + Title + FamilySize + FamilyID2,\n",
    "                    data=train, importance=TRUE, ntree=2000)"
   ]
  },
  {
   "cell_type": "code",
   "execution_count": 26,
   "metadata": {},
   "outputs": [
    {
     "data": {
      "image/png": "[encoded data removed]",
      "text/plain": [
       "plot without title"
      ]
     },
     "metadata": {},
     "output_type": "display_data"
    }
   ],
   "source": [
    "varImpPlot(fit)"
   ]
  },
  {
   "cell_type": "code",
   "execution_count": 27,
   "metadata": {},
   "outputs": [],
   "source": [
    "Prediction <- predict(fit, test)\n",
    "submit <- data.frame(PassengerId = test$PassengerId, Survived = Prediction)\n",
    "write.csv(submit, file = \"firstforest.csv\", row.names = FALSE)"
   ]
  },
  {
   "cell_type": "code",
   "execution_count": 33,
   "metadata": {},
   "outputs": [],
   "source": [
    "set.seed(415)"
   ]
  },
  {
   "cell_type": "code",
   "execution_count": 34,
   "metadata": {},
   "outputs": [],
   "source": [
    "# random forest\n",
    "fit <- cforest(as.factor(Survived) ~ Pclass + Sex + Age + SibSp + Parch + Fare + Embarked + Title + FamilySize + FamilyID,\n",
    "               data = train, controls=cforest_unbiased(ntree=2000, mtry=3))"
   ]
  },
  {
   "cell_type": "code",
   "execution_count": 35,
   "metadata": {},
   "outputs": [
    {
     "name": "stderr",
     "output_type": "stream",
     "text": [
      "Warning message in file(file, ifelse(append, \"a\", \"w\")):\n",
      "\"dosya 'data/preds/part_5.csv' açılamadı: Permission denied\""
     ]
    },
    {
     "ename": "ERROR",
     "evalue": "Error in file(file, ifelse(append, \"a\", \"w\")): bağlantı açılamadı\n",
     "output_type": "error",
     "traceback": [
      "Error in file(file, ifelse(append, \"a\", \"w\")): bağlantı açılamadı\nTraceback:\n",
      "1. write.csv(submit, file = \"data/preds/part_5.csv\", row.names = FALSE)",
      "2. eval.parent(Call)",
      "3. eval(expr, p)",
      "4. eval(expr, p)",
      "5. write.table(submit, file = \"data/preds/part_5.csv\", row.names = FALSE, \n .     col.names = TRUE, sep = \",\", dec = \".\", qmethod = \"double\")",
      "6. file(file, ifelse(append, \"a\", \"w\"))"
     ]
    }
   ],
   "source": [
    "# make a prediction and write part 5 file\n",
    "Prediction <- predict(fit, test, OOB=TRUE, type = \"response\")\n",
    "submit <- data.frame(PassengerId = test$PassengerId, Survived = Prediction)\n",
    "write.csv(submit, file = \"data/preds/part_5.csv\", row.names = FALSE)"
   ]
  },
  {
   "cell_type": "code",
   "execution_count": null,
   "metadata": {},
   "outputs": [],
   "source": []
  }
 ],
 "metadata": {
  "kernelspec": {
   "display_name": "R",
   "language": "R",
   "name": "ir"
  },
  "language_info": {
   "codemirror_mode": "r",
   "file_extension": ".r",
   "mimetype": "text/x-r-source",
   "name": "R",
   "pygments_lexer": "r",
   "version": "3.4.3"
  }
 },
 "nbformat": 4,
 "nbformat_minor": 2
}
